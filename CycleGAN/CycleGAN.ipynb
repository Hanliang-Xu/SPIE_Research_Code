{
 "cells": [
  {
   "cell_type": "markdown",
   "metadata": {
    "colab_type": "text",
    "id": "view-in-github"
   },
   "source": [
    "<a href=\"https://colab.research.google.com/github/bkkaggle/pytorch-CycleGAN-and-pix2pix/blob/master/CycleGAN.ipynb\" target=\"_parent\"><img src=\"https://colab.research.google.com/assets/colab-badge.svg\" alt=\"Open In Colab\"/></a>"
   ]
  },
  {
   "cell_type": "markdown",
   "metadata": {
    "colab_type": "text",
    "id": "5VIGyIus8Vr7"
   },
   "source": [
    "Take a look at the [repository](https://github.com/junyanz/pytorch-CycleGAN-and-pix2pix) for more information"
   ]
  },
  {
   "cell_type": "markdown",
   "metadata": {
    "colab_type": "text",
    "id": "7wNjDKdQy35h"
   },
   "source": [
    "# Install"
   ]
  },
  {
   "cell_type": "code",
   "execution_count": 12,
   "metadata": {
    "colab": {},
    "colab_type": "code",
    "id": "TRm-USlsHgEV"
   },
   "outputs": [
    {
     "name": "stdout",
     "output_type": "stream",
     "text": [
      "fatal: destination path 'pytorch-CycleGAN-and-pix2pix' already exists and is not an empty directory.\n"
     ]
    }
   ],
   "source": [
    "!git clone https://github.com/junyanz/pytorch-CycleGAN-and-pix2pix"
   ]
  },
  {
   "cell_type": "code",
   "execution_count": 2,
   "metadata": {
    "colab": {},
    "colab_type": "code",
    "id": "Pt3igws3eiVp"
   },
   "outputs": [],
   "source": [
    "import os\n",
    "os.chdir('pytorch-CycleGAN-and-pix2pix/')"
   ]
  },
  {
   "cell_type": "code",
   "execution_count": 3,
   "metadata": {
    "colab": {},
    "colab_type": "code",
    "id": "z1EySlOXwwoa"
   },
   "outputs": [
    {
     "name": "stdout",
     "output_type": "stream",
     "text": [
      "Requirement already satisfied: torch>=1.4.0 in /home-local/software/anaconda3/envs/csvToNpy/lib/python3.11/site-packages (from -r requirements.txt (line 1)) (2.0.1)\n",
      "Requirement already satisfied: torchvision>=0.5.0 in /home-local/software/anaconda3/envs/csvToNpy/lib/python3.11/site-packages (from -r requirements.txt (line 2)) (0.15.2)\n",
      "Requirement already satisfied: dominate>=2.4.0 in /home-local/software/anaconda3/envs/csvToNpy/lib/python3.11/site-packages (from -r requirements.txt (line 3)) (2.8.0)\n",
      "Requirement already satisfied: visdom>=0.1.8.8 in /home-local/software/anaconda3/envs/csvToNpy/lib/python3.11/site-packages (from -r requirements.txt (line 4)) (0.2.4)\n",
      "Requirement already satisfied: wandb in /home-local/software/anaconda3/envs/csvToNpy/lib/python3.11/site-packages (from -r requirements.txt (line 5)) (0.15.5)\n",
      "Requirement already satisfied: filelock in /home-local/software/anaconda3/envs/csvToNpy/lib/python3.11/site-packages (from torch>=1.4.0->-r requirements.txt (line 1)) (3.12.2)\n",
      "Requirement already satisfied: typing-extensions in /home-local/software/anaconda3/envs/csvToNpy/lib/python3.11/site-packages (from torch>=1.4.0->-r requirements.txt (line 1)) (4.7.1)\n",
      "Requirement already satisfied: sympy in /home-local/software/anaconda3/envs/csvToNpy/lib/python3.11/site-packages (from torch>=1.4.0->-r requirements.txt (line 1)) (1.12)\n",
      "Requirement already satisfied: networkx in /home-local/software/anaconda3/envs/csvToNpy/lib/python3.11/site-packages (from torch>=1.4.0->-r requirements.txt (line 1)) (3.1)\n",
      "Requirement already satisfied: jinja2 in /home-local/software/anaconda3/envs/csvToNpy/lib/python3.11/site-packages (from torch>=1.4.0->-r requirements.txt (line 1)) (3.1.2)\n",
      "Requirement already satisfied: nvidia-cuda-nvrtc-cu11==11.7.99 in /home-local/software/anaconda3/envs/csvToNpy/lib/python3.11/site-packages (from torch>=1.4.0->-r requirements.txt (line 1)) (11.7.99)\n",
      "Requirement already satisfied: nvidia-cuda-runtime-cu11==11.7.99 in /home-local/software/anaconda3/envs/csvToNpy/lib/python3.11/site-packages (from torch>=1.4.0->-r requirements.txt (line 1)) (11.7.99)\n",
      "Requirement already satisfied: nvidia-cuda-cupti-cu11==11.7.101 in /home-local/software/anaconda3/envs/csvToNpy/lib/python3.11/site-packages (from torch>=1.4.0->-r requirements.txt (line 1)) (11.7.101)\n",
      "Requirement already satisfied: nvidia-cudnn-cu11==8.5.0.96 in /home-local/software/anaconda3/envs/csvToNpy/lib/python3.11/site-packages (from torch>=1.4.0->-r requirements.txt (line 1)) (8.5.0.96)\n",
      "Requirement already satisfied: nvidia-cublas-cu11==11.10.3.66 in /home-local/software/anaconda3/envs/csvToNpy/lib/python3.11/site-packages (from torch>=1.4.0->-r requirements.txt (line 1)) (11.10.3.66)\n",
      "Requirement already satisfied: nvidia-cufft-cu11==10.9.0.58 in /home-local/software/anaconda3/envs/csvToNpy/lib/python3.11/site-packages (from torch>=1.4.0->-r requirements.txt (line 1)) (10.9.0.58)\n",
      "Requirement already satisfied: nvidia-curand-cu11==10.2.10.91 in /home-local/software/anaconda3/envs/csvToNpy/lib/python3.11/site-packages (from torch>=1.4.0->-r requirements.txt (line 1)) (10.2.10.91)\n",
      "Requirement already satisfied: nvidia-cusolver-cu11==11.4.0.1 in /home-local/software/anaconda3/envs/csvToNpy/lib/python3.11/site-packages (from torch>=1.4.0->-r requirements.txt (line 1)) (11.4.0.1)\n",
      "Requirement already satisfied: nvidia-cusparse-cu11==11.7.4.91 in /home-local/software/anaconda3/envs/csvToNpy/lib/python3.11/site-packages (from torch>=1.4.0->-r requirements.txt (line 1)) (11.7.4.91)\n",
      "Requirement already satisfied: nvidia-nccl-cu11==2.14.3 in /home-local/software/anaconda3/envs/csvToNpy/lib/python3.11/site-packages (from torch>=1.4.0->-r requirements.txt (line 1)) (2.14.3)\n",
      "Requirement already satisfied: nvidia-nvtx-cu11==11.7.91 in /home-local/software/anaconda3/envs/csvToNpy/lib/python3.11/site-packages (from torch>=1.4.0->-r requirements.txt (line 1)) (11.7.91)\n",
      "Requirement already satisfied: triton==2.0.0 in /home-local/software/anaconda3/envs/csvToNpy/lib/python3.11/site-packages (from torch>=1.4.0->-r requirements.txt (line 1)) (2.0.0)\n",
      "Requirement already satisfied: setuptools in /home-local/software/anaconda3/envs/csvToNpy/lib/python3.11/site-packages (from nvidia-cublas-cu11==11.10.3.66->torch>=1.4.0->-r requirements.txt (line 1)) (67.8.0)\n",
      "Requirement already satisfied: wheel in /home-local/software/anaconda3/envs/csvToNpy/lib/python3.11/site-packages (from nvidia-cublas-cu11==11.10.3.66->torch>=1.4.0->-r requirements.txt (line 1)) (0.38.4)\n",
      "Requirement already satisfied: cmake in /home-local/software/anaconda3/envs/csvToNpy/lib/python3.11/site-packages (from triton==2.0.0->torch>=1.4.0->-r requirements.txt (line 1)) (3.26.4)\n",
      "Requirement already satisfied: lit in /home-local/software/anaconda3/envs/csvToNpy/lib/python3.11/site-packages (from triton==2.0.0->torch>=1.4.0->-r requirements.txt (line 1)) (16.0.6)\n",
      "Requirement already satisfied: numpy in /home-local/software/anaconda3/envs/csvToNpy/lib/python3.11/site-packages (from torchvision>=0.5.0->-r requirements.txt (line 2)) (1.25.0)\n",
      "Requirement already satisfied: requests in /home-local/software/anaconda3/envs/csvToNpy/lib/python3.11/site-packages (from torchvision>=0.5.0->-r requirements.txt (line 2)) (2.31.0)\n",
      "Requirement already satisfied: pillow!=8.3.*,>=5.3.0 in /home-local/software/anaconda3/envs/csvToNpy/lib/python3.11/site-packages (from torchvision>=0.5.0->-r requirements.txt (line 2)) (10.0.0)\n",
      "Requirement already satisfied: scipy in /home-local/software/anaconda3/envs/csvToNpy/lib/python3.11/site-packages (from visdom>=0.1.8.8->-r requirements.txt (line 4)) (1.11.1)\n",
      "Requirement already satisfied: tornado in /home-local/software/anaconda3/envs/csvToNpy/lib/python3.11/site-packages (from visdom>=0.1.8.8->-r requirements.txt (line 4)) (6.2)\n",
      "Requirement already satisfied: six in /home-local/software/anaconda3/envs/csvToNpy/lib/python3.11/site-packages (from visdom>=0.1.8.8->-r requirements.txt (line 4)) (1.16.0)\n",
      "Requirement already satisfied: jsonpatch in /home-local/software/anaconda3/envs/csvToNpy/lib/python3.11/site-packages (from visdom>=0.1.8.8->-r requirements.txt (line 4)) (1.33)\n",
      "Requirement already satisfied: websocket-client in /home-local/software/anaconda3/envs/csvToNpy/lib/python3.11/site-packages (from visdom>=0.1.8.8->-r requirements.txt (line 4)) (1.6.1)\n",
      "Requirement already satisfied: Click!=8.0.0,>=7.1 in /home-local/software/anaconda3/envs/csvToNpy/lib/python3.11/site-packages (from wandb->-r requirements.txt (line 5)) (8.1.6)\n",
      "Requirement already satisfied: GitPython!=3.1.29,>=1.0.0 in /home-local/software/anaconda3/envs/csvToNpy/lib/python3.11/site-packages (from wandb->-r requirements.txt (line 5)) (3.1.32)\n",
      "Requirement already satisfied: psutil>=5.0.0 in /home-local/software/anaconda3/envs/csvToNpy/lib/python3.11/site-packages (from wandb->-r requirements.txt (line 5)) (5.9.0)\n",
      "Requirement already satisfied: sentry-sdk>=1.0.0 in /home-local/software/anaconda3/envs/csvToNpy/lib/python3.11/site-packages (from wandb->-r requirements.txt (line 5)) (1.28.1)\n",
      "Requirement already satisfied: docker-pycreds>=0.4.0 in /home-local/software/anaconda3/envs/csvToNpy/lib/python3.11/site-packages (from wandb->-r requirements.txt (line 5)) (0.4.0)\n",
      "Requirement already satisfied: PyYAML in /home-local/software/anaconda3/envs/csvToNpy/lib/python3.11/site-packages (from wandb->-r requirements.txt (line 5)) (6.0.1)\n",
      "Requirement already satisfied: pathtools in /home-local/software/anaconda3/envs/csvToNpy/lib/python3.11/site-packages (from wandb->-r requirements.txt (line 5)) (0.1.2)\n",
      "Requirement already satisfied: setproctitle in /home-local/software/anaconda3/envs/csvToNpy/lib/python3.11/site-packages (from wandb->-r requirements.txt (line 5)) (1.3.2)\n",
      "Requirement already satisfied: appdirs>=1.4.3 in /home-local/software/anaconda3/envs/csvToNpy/lib/python3.11/site-packages (from wandb->-r requirements.txt (line 5)) (1.4.4)\n",
      "Requirement already satisfied: protobuf!=4.21.0,<5,>=3.19.0 in /home-local/software/anaconda3/envs/csvToNpy/lib/python3.11/site-packages (from wandb->-r requirements.txt (line 5)) (4.23.4)\n",
      "Requirement already satisfied: gitdb<5,>=4.0.1 in /home-local/software/anaconda3/envs/csvToNpy/lib/python3.11/site-packages (from GitPython!=3.1.29,>=1.0.0->wandb->-r requirements.txt (line 5)) (4.0.10)\n",
      "Requirement already satisfied: charset-normalizer<4,>=2 in /home-local/software/anaconda3/envs/csvToNpy/lib/python3.11/site-packages (from requests->torchvision>=0.5.0->-r requirements.txt (line 2)) (3.1.0)\n",
      "Requirement already satisfied: idna<4,>=2.5 in /home-local/software/anaconda3/envs/csvToNpy/lib/python3.11/site-packages (from requests->torchvision>=0.5.0->-r requirements.txt (line 2)) (3.4)\n",
      "Requirement already satisfied: urllib3<3,>=1.21.1 in /home-local/software/anaconda3/envs/csvToNpy/lib/python3.11/site-packages (from requests->torchvision>=0.5.0->-r requirements.txt (line 2)) (2.0.4)\n",
      "Requirement already satisfied: certifi>=2017.4.17 in /home-local/software/anaconda3/envs/csvToNpy/lib/python3.11/site-packages (from requests->torchvision>=0.5.0->-r requirements.txt (line 2)) (2023.5.7)\n",
      "Requirement already satisfied: MarkupSafe>=2.0 in /home-local/software/anaconda3/envs/csvToNpy/lib/python3.11/site-packages (from jinja2->torch>=1.4.0->-r requirements.txt (line 1)) (2.1.3)\n",
      "Requirement already satisfied: jsonpointer>=1.9 in /home-local/software/anaconda3/envs/csvToNpy/lib/python3.11/site-packages (from jsonpatch->visdom>=0.1.8.8->-r requirements.txt (line 4)) (2.4)\n",
      "Requirement already satisfied: mpmath>=0.19 in /home-local/software/anaconda3/envs/csvToNpy/lib/python3.11/site-packages (from sympy->torch>=1.4.0->-r requirements.txt (line 1)) (1.3.0)\n",
      "Requirement already satisfied: smmap<6,>=3.0.1 in /home-local/software/anaconda3/envs/csvToNpy/lib/python3.11/site-packages (from gitdb<5,>=4.0.1->GitPython!=3.1.29,>=1.0.0->wandb->-r requirements.txt (line 5)) (5.0.0)\n"
     ]
    }
   ],
   "source": [
    "!pip install -r requirements.txt"
   ]
  },
  {
   "cell_type": "markdown",
   "metadata": {
    "colab_type": "text",
    "id": "8daqlgVhw29P"
   },
   "source": [
    "# Datasets\n",
    "\n",
    "Download one of the official datasets with:\n",
    "\n",
    "-   `bash ./datasets/download_cyclegan_dataset.sh [apple2orange, summer2winter_yosemite, horse2zebra, monet2photo, cezanne2photo, ukiyoe2photo, vangogh2photo, maps, cityscapes, facades, iphone2dslr_flower, ae_photos]`\n",
    "\n",
    "Or use your own dataset by creating the appropriate folders and adding in the images.\n",
    "\n",
    "-   Create a dataset folder under `/dataset` for your dataset.\n",
    "-   Create subfolders `testA`, `testB`, `trainA`, and `trainB` under your dataset's folder. Place any images you want to transform from a to b (cat2dog) in the `testA` folder, images you want to transform from b to a (dog2cat) in the `testB` folder, and do the same for the `trainA` and `trainB` folders."
   ]
  },
  {
   "cell_type": "code",
   "execution_count": 20,
   "metadata": {
    "colab": {},
    "colab_type": "code",
    "id": "vrdOettJxaCc"
   },
   "outputs": [
    {
     "name": "stdout",
     "output_type": "stream",
     "text": [
      "Specified [horse2zebra]\n",
      "WARNING: timestamping does nothing in combination with -O. See the manual\n",
      "for details.\n",
      "\n",
      "--2023-07-19 18:27:51--  http://efrosgans.eecs.berkeley.edu/cyclegan/datasets/horse2zebra.zip\n",
      "Resolving efrosgans.eecs.berkeley.edu (efrosgans.eecs.berkeley.edu)... 128.32.244.190\n",
      "Connecting to efrosgans.eecs.berkeley.edu (efrosgans.eecs.berkeley.edu)|128.32.244.190|:80... connected.\n",
      "HTTP request sent, awaiting response... 200 OK\n",
      "Length: 116867962 (111M) [application/zip]\n",
      "Saving to: ‘./datasets/horse2zebra.zip’\n",
      "\n",
      "ebra.zip             68%[============>       ]  76.17M   690KB/s    eta 50s    ^C\n"
     ]
    }
   ],
   "source": [
    "!bash ./datasets/download_cyclegan_dataset.sh horse2zebra"
   ]
  },
  {
   "cell_type": "markdown",
   "metadata": {
    "colab_type": "text",
    "id": "gdUz4116xhpm"
   },
   "source": [
    "# Pretrained models\n",
    "\n",
    "Download one of the official pretrained models with:\n",
    "\n",
    "-   `bash ./scripts/download_cyclegan_model.sh [apple2orange, orange2apple, summer2winter_yosemite, winter2summer_yosemite, horse2zebra, zebra2horse, monet2photo, style_monet, style_cezanne, style_ukiyoe, style_vangogh, sat2map, map2sat, cityscapes_photo2label, cityscapes_label2photo, facades_photo2label, facades_label2photo, iphone2dslr_flower]`\n",
    "\n",
    "Or add your own pretrained model to `./checkpoints/{NAME}_pretrained/latest_net_G.pt`"
   ]
  },
  {
   "cell_type": "code",
   "execution_count": 21,
   "metadata": {
    "colab": {},
    "colab_type": "code",
    "id": "B75UqtKhxznS"
   },
   "outputs": [
    {
     "name": "stdout",
     "output_type": "stream",
     "text": [
      "Note: available models are apple2orange, orange2apple, summer2winter_yosemite, winter2summer_yosemite, horse2zebra, zebra2horse, monet2photo, style_monet, style_cezanne, style_ukiyoe, style_vangogh, sat2map, map2sat, cityscapes_photo2label, cityscapes_label2photo, facades_photo2label, facades_label2photo, iphone2dslr_flower\n",
      "Specified [horse2zebra]\n",
      "WARNING: timestamping does nothing in combination with -O. See the manual\n",
      "for details.\n",
      "\n",
      "--2023-07-19 18:29:43--  http://efrosgans.eecs.berkeley.edu/cyclegan/pretrained_models/horse2zebra.pth\n",
      "Resolving efrosgans.eecs.berkeley.edu (efrosgans.eecs.berkeley.edu)... 128.32.244.190\n",
      "Connecting to efrosgans.eecs.berkeley.edu (efrosgans.eecs.berkeley.edu)|128.32.244.190|:80... connected.\n",
      "HTTP request sent, awaiting response... 200 OK\n",
      "Length: 45575747 (43M)\n",
      "Saving to: ‘./checkpoints/horse2zebra_pretrained/latest_net_G.pth’\n",
      "\n",
      "        ./checkpoin   1%[                    ] 621.47K  1.11MB/s               ^C\n"
     ]
    }
   ],
   "source": [
    "!bash ./scripts/download_cyclegan_model.sh horse2zebra"
   ]
  },
  {
   "cell_type": "markdown",
   "metadata": {
    "colab_type": "text",
    "id": "yFw1kDQBx3LN"
   },
   "source": [
    "# Training\n",
    "\n",
    "-   `python train.py --dataroot ./datasets/horse2zebra --name horse2zebra --model cycle_gan`\n",
    "\n",
    "Change the `--dataroot` and `--name` to your own dataset's path and model's name. Use `--gpu_ids 0,1,..` to train on multiple GPUs and `--batch_size` to change the batch size. I've found that a batch size of 16 fits onto 4 V100s and can finish training an epoch in ~90s.\n",
    "\n",
    "Once your model has trained, copy over the last checkpoint to a format that the testing model can automatically detect:\n",
    "\n",
    "Use `cp ./checkpoints/horse2zebra/latest_net_G_A.pth ./checkpoints/horse2zebra/latest_net_G.pth` if you want to transform images from class A to class B and `cp ./checkpoints/horse2zebra/latest_net_G_B.pth ./checkpoints/horse2zebra/latest_net_G.pth` if you want to transform images from class B to class A.\n"
   ]
  },
  {
   "cell_type": "code",
   "execution_count": 36,
   "metadata": {
    "colab": {},
    "colab_type": "code",
    "id": "0sp7TCT2x9dB"
   },
   "outputs": [
    {
     "name": "stdout",
     "output_type": "stream",
     "text": [
      "----------------- Options ---------------\n",
      "               batch_size: 1                             \n",
      "                    beta1: 0.5                           \n",
      "          checkpoints_dir: ./checkpoints                 \n",
      "           continue_train: False                         \n",
      "                crop_size: 256                           \n",
      "                 dataroot: /nfs2/xuh11/Connectome/CycleGAN/datasets/Mean_Length\t[default: None]\n",
      "             dataset_mode: unaligned                     \n",
      "                direction: AtoB                          \n",
      "              display_env: main                          \n",
      "             display_freq: 400                           \n",
      "               display_id: -1                            \t[default: 1]\n",
      "            display_ncols: 4                             \n",
      "             display_port: 8097                          \n",
      "           display_server: http://localhost              \n",
      "          display_winsize: 256                           \n",
      "                    epoch: latest                        \n",
      "              epoch_count: 1                             \n",
      "                 gan_mode: lsgan                         \n",
      "                  gpu_ids: 0                             \n",
      "                init_gain: 0.02                          \n",
      "                init_type: normal                        \n",
      "                 input_nc: 3                             \n",
      "                  isTrain: True                          \t[default: None]\n",
      "                 lambda_A: 10.0                          \n",
      "                 lambda_B: 10.0                          \n",
      "          lambda_identity: 0.5                           \n",
      "                load_iter: 0                             \t[default: 0]\n",
      "                load_size: 286                           \n",
      "                       lr: 0.0002                        \n",
      "           lr_decay_iters: 50                            \n",
      "                lr_policy: linear                        \n",
      "         max_dataset_size: inf                           \n",
      "                    model: cycle_gan                     \n",
      "                 n_epochs: 100                           \n",
      "           n_epochs_decay: 100                           \n",
      "               n_layers_D: 3                             \n",
      "                     name: BIOCARDtoVMAP_MeanLength      \t[default: experiment_name]\n",
      "                      ndf: 64                            \n",
      "                     netD: basic                         \n",
      "                     netG: resnet_9blocks                \n",
      "                      ngf: 64                            \n",
      "               no_dropout: True                          \n",
      "                  no_flip: False                         \n",
      "                  no_html: False                         \n",
      "                     norm: instance                      \n",
      "              num_threads: 4                             \n",
      "                output_nc: 3                             \n",
      "                    phase: train                         \n",
      "                pool_size: 50                            \n",
      "               preprocess: resize_and_crop               \n",
      "               print_freq: 100                           \n",
      "             save_by_iter: False                         \n",
      "          save_epoch_freq: 5                             \n",
      "         save_latest_freq: 5000                          \n",
      "           serial_batches: False                         \n",
      "                   suffix:                               \n",
      "         update_html_freq: 1000                          \n",
      "                use_wandb: False                         \n",
      "                  verbose: False                         \n",
      "       wandb_project_name: CycleGAN-and-pix2pix          \n",
      "----------------- End -------------------\n",
      "dataset [UnalignedDataset] was created\n",
      "Traceback (most recent call last):\n",
      "  File \"/nfs2/xuh11/Connectome/CycleGAN/pytorch-CycleGAN-and-pix2pix/train.py\", line 29, in <module>\n",
      "    dataset = create_dataset(opt)  # create a dataset given opt.dataset_mode and other options\n",
      "              ^^^^^^^^^^^^^^^^^^^\n",
      "  File \"/nfs2/xuh11/Connectome/CycleGAN/pytorch-CycleGAN-and-pix2pix/data/__init__.py\", line 57, in create_dataset\n",
      "    data_loader = CustomDatasetDataLoader(opt)\n",
      "                  ^^^^^^^^^^^^^^^^^^^^^^^^^^^^\n",
      "  File \"/nfs2/xuh11/Connectome/CycleGAN/pytorch-CycleGAN-and-pix2pix/data/__init__.py\", line 75, in __init__\n",
      "    self.dataloader = torch.utils.data.DataLoader(\n",
      "                      ^^^^^^^^^^^^^^^^^^^^^^^^^^^^\n",
      "  File \"/home-local/software/anaconda3/envs/csvToNpy/lib/python3.11/site-packages/torch/utils/data/dataloader.py\", line 351, in __init__\n",
      "    sampler = RandomSampler(dataset, generator=generator)  # type: ignore[arg-type]\n",
      "              ^^^^^^^^^^^^^^^^^^^^^^^^^^^^^^^^^^^^^^^^^^^\n",
      "  File \"/home-local/software/anaconda3/envs/csvToNpy/lib/python3.11/site-packages/torch/utils/data/sampler.py\", line 107, in __init__\n",
      "    raise ValueError(\"num_samples should be a positive integer \"\n",
      "ValueError: num_samples should be a positive integer value, but got num_samples=0\n"
     ]
    }
   ],
   "source": [
    "!python train.py --dataroot /nfs2/xuh11/Connectome/CycleGAN/datasets/Mean_Length --name BIOCARDtoVMAP_MeanLength --model cycle_gan --display_id -1 --dataset_mode unaligned"
   ]
  },
  {
   "cell_type": "markdown",
   "metadata": {
    "colab_type": "text",
    "id": "9UkcaFZiyASl"
   },
   "source": [
    "# Testing\n",
    "\n",
    "-   `python test.py --dataroot datasets/horse2zebra/testA --name horse2zebra_pretrained --model test --no_dropout`\n",
    "\n",
    "Change the `--dataroot` and `--name` to be consistent with your trained model's configuration.\n",
    "\n",
    "> from https://github.com/junyanz/pytorch-CycleGAN-and-pix2pix:\n",
    "> The option --model test is used for generating results of CycleGAN only for one side. This option will automatically set --dataset_mode single, which only loads the images from one set. On the contrary, using --model cycle_gan requires loading and generating results in both directions, which is sometimes unnecessary. The results will be saved at ./results/. Use --results_dir {directory_path_to_save_result} to specify the results directory.\n",
    "\n",
    "> For your own experiments, you might want to specify --netG, --norm, --no_dropout to match the generator architecture of the trained model."
   ]
  },
  {
   "cell_type": "code",
   "execution_count": null,
   "metadata": {
    "colab": {},
    "colab_type": "code",
    "id": "uCsKkEq0yGh0"
   },
   "outputs": [],
   "source": [
    "!python test.py --dataroot datasets/horse2zebra/testA --name horse2zebra_pretrained --model test --no_dropout"
   ]
  },
  {
   "cell_type": "markdown",
   "metadata": {
    "colab_type": "text",
    "id": "OzSKIPUByfiN"
   },
   "source": [
    "# Visualize"
   ]
  },
  {
   "cell_type": "code",
   "execution_count": null,
   "metadata": {
    "colab": {},
    "colab_type": "code",
    "id": "9Mgg8raPyizq"
   },
   "outputs": [],
   "source": [
    "import matplotlib.pyplot as plt\n",
    "\n",
    "img = plt.imread('./results/horse2zebra_pretrained/test_latest/images/n02381460_1010_fake.png')\n",
    "plt.imshow(img)"
   ]
  },
  {
   "cell_type": "code",
   "execution_count": null,
   "metadata": {
    "colab": {},
    "colab_type": "code",
    "id": "0G3oVH9DyqLQ"
   },
   "outputs": [],
   "source": [
    "import matplotlib.pyplot as plt\n",
    "\n",
    "img = plt.imread('./results/horse2zebra_pretrained/test_latest/images/n02381460_1010_real.png')\n",
    "plt.imshow(img)"
   ]
  }
 ],
 "metadata": {
  "accelerator": "GPU",
  "colab": {
   "collapsed_sections": [],
   "include_colab_link": true,
   "name": "CycleGAN",
   "provenance": []
  },
  "environment": {
   "name": "tf2-gpu.2-3.m74",
   "type": "gcloud",
   "uri": "gcr.io/deeplearning-platform-release/tf2-gpu.2-3:m74"
  },
  "kernelspec": {
   "display_name": "Python 3.11.3 ('csvToNpy')",
   "language": "python",
   "name": "python3"
  },
  "language_info": {
   "codemirror_mode": {
    "name": "ipython",
    "version": 3
   },
   "file_extension": ".py",
   "mimetype": "text/x-python",
   "name": "python",
   "nbconvert_exporter": "python",
   "pygments_lexer": "ipython3",
   "version": "3.11.4"
  },
  "vscode": {
   "interpreter": {
    "hash": "5803b030e1520f9a7dad528272dd9ce524b86bf4b74738c6a562460697dfb6f1"
   }
  }
 },
 "nbformat": 4,
 "nbformat_minor": 4
}
